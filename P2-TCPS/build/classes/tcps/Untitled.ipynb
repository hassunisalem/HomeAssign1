{
 "cells": [
  {
   "cell_type": "code",
   "execution_count": null,
   "metadata": {},
   "outputs": [],
   "source": [
    "public static void main(String[] args) throws IOException \n",
    "    {       \n",
    "        try\n",
    "        {\n",
    "            // Configure Server socket at the predefined port\n",
    "            serverSocket = configureServer(PORT);\n",
    "       \n",
    "            connectClient(clientSocket);\n",
    "        }\n",
    "        catch(Exception e)\n",
    "        {\n",
    "            System.out.println(\" Connection fails: \" + e); \n",
    "        }\n",
    "        finally\n",
    "        {    \n",
    "            clientSocket.close();\n",
    "            System.out.println(\"Connection to client closed\");\n",
    "            \n",
    "            serverSocket.close();\n",
    "            System.out.println(\"Server port closed\");\n",
    "        }\n",
    "       \n",
    "    }"
   ]
  }
 ],
 "metadata": {
  "kernelspec": {
   "display_name": "Python 3",
   "language": "python",
   "name": "python3"
  },
  "language_info": {
   "codemirror_mode": {
    "name": "ipython",
    "version": 3
   },
   "file_extension": ".py",
   "mimetype": "text/x-python",
   "name": "python",
   "nbconvert_exporter": "python",
   "pygments_lexer": "ipython3",
   "version": "3.7.3"
  }
 },
 "nbformat": 4,
 "nbformat_minor": 2
}
